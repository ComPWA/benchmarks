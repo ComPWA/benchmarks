{
 "cells": [
  {
   "cell_type": "markdown",
   "metadata": {
    "tags": []
   },
   "source": [
    "# Wigner-D simplification"
   ]
  },
  {
   "cell_type": "code",
   "execution_count": null,
   "metadata": {
    "jupyter": {
     "source_hidden": true
    },
    "tags": [
     "hide-cell"
    ]
   },
   "outputs": [],
   "source": [
    "import logging\n",
    "\n",
    "import ampform\n",
    "import qrules\n",
    "import sympy as sp\n",
    "from ampform.helicity.align.dpd import DalitzPlotDecomposition, relabel_edge_ids\n",
    "from ampform.io import aslatex\n",
    "from ampform.kinematics.phasespace import Kallen, Kibble\n",
    "from IPython.display import Math\n",
    "from symplot import partial_doit\n",
    "\n",
    "LOGGER = logging.getLogger()\n",
    "LOGGER.setLevel(logging.ERROR)"
   ]
  },
  {
   "cell_type": "code",
   "execution_count": null,
   "metadata": {
    "tags": []
   },
   "outputs": [],
   "source": [
    "reaction = qrules.generate_transitions(\n",
    "    initial_state=(\"J/psi(1S)\", [-1, +1]),\n",
    "    final_state=[\"K0\", \"Sigma+\", \"p~\"],\n",
    "    allowed_intermediate_particles=[\"Sigma(1660)\", \"N(1650)\"],\n",
    "    allowed_interaction_types=[\"strong\"],\n",
    "    formalism=\"helicity\",\n",
    ")"
   ]
  },
  {
   "cell_type": "code",
   "execution_count": null,
   "metadata": {
    "tags": [
     "full-width"
    ]
   },
   "outputs": [],
   "source": [
    "reaction_123 = relabel_edge_ids(reaction)\n",
    "builder_123 = ampform.get_builder(reaction_123)\n",
    "builder_123.config.spin_alignment = DalitzPlotDecomposition(reference_subsystem=1)\n",
    "builder_123.config.scalar_initial_state_mass = True\n",
    "builder_123.config.stable_final_state_ids = [1, 2, 3]\n",
    "dpd_model = builder_123.formulate()\n",
    "dpd_model.intensity"
   ]
  },
  {
   "cell_type": "code",
   "execution_count": null,
   "metadata": {
    "jupyter": {
     "source_hidden": true
    },
    "tags": [
     "hide-input"
    ]
   },
   "outputs": [],
   "source": [
    "dpd_angles = {\n",
    "    k: v for k, v in dpd_model.kinematic_variables.items() if \"zeta\" in str(k)\n",
    "}\n",
    "src = aslatex(dpd_angles)\n",
    "Math(src)"
   ]
  },
  {
   "cell_type": "code",
   "execution_count": null,
   "metadata": {},
   "outputs": [],
   "source": [
    "m12, m13, m23 = (\n",
    "    v for k, v in dpd_model.kinematic_variables.items() if str(k).startswith(\"m\")\n",
    ")\n",
    "\n",
    "\n",
    "def simplify_zeta(zeta: sp.Expr):\n",
    "    numerator, denominator = sp.fraction(sp.together(sp.sin(zeta)) ** 2)\n",
    "    s = sp.symbols(\"sigma0:4\")\n",
    "    m = sp.symbols(\"m_0:4\", nonnegative=True)\n",
    "    unfolded_numerator = partial_doit(numerator, doit_classes=(Kallen,))\n",
    "    s2_expr = sum(i**2 for i in m) - s[1] - s[3]\n",
    "    simplified_numerator = (\n",
    "        unfolded_numerator.xreplace({m12**2: s[1], m13**2: s[2], m23**2: s[3]})\n",
    "        .subs(s[2], s2_expr)\n",
    "        .expand()\n",
    "        .factor()\n",
    "    )\n",
    "    simplified_expr = simplified_numerator / denominator\n",
    "    return simplified_expr.xreplace({s[1]: m12**2, s[2]: m13**2, s[3]: m23**2})"
   ]
  },
  {
   "cell_type": "code",
   "execution_count": null,
   "metadata": {},
   "outputs": [],
   "source": [
    "simplify_zeta(list(dpd_angles.values())[0])"
   ]
  },
  {
   "cell_type": "code",
   "execution_count": null,
   "metadata": {},
   "outputs": [],
   "source": [
    "simplify_zeta(list(dpd_angles.values())[2])"
   ]
  },
  {
   "cell_type": "code",
   "execution_count": null,
   "metadata": {},
   "outputs": [],
   "source": [
    "def simplified_kibble():\n",
    "    s = sp.symbols(\"sigma0:4\")\n",
    "    m = sp.symbols(\"m_0:4\", nonnegative=True)\n",
    "    kibble = Kibble(s[3], s[2], s[1], *m).doit()\n",
    "    s2_expr = sum(i**2 for i in m) - s[1] - s[3]\n",
    "    return kibble.subs(s[2], s2_expr).expand().factor()\n",
    "\n",
    "\n",
    "simplified_kibble()"
   ]
  }
 ],
 "metadata": {
  "kernelspec": {
   "display_name": "Python 3 (ipykernel)",
   "language": "python",
   "name": "python3"
  },
  "language_info": {
   "codemirror_mode": {
    "name": "ipython",
    "version": 3
   },
   "file_extension": ".py",
   "mimetype": "text/x-python",
   "name": "python",
   "nbconvert_exporter": "python",
   "pygments_lexer": "ipython3",
   "version": "3.8.13"
  }
 },
 "nbformat": 4,
 "nbformat_minor": 4
}
