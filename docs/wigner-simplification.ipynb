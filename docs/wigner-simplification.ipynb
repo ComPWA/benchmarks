{
 "cells": [
  {
   "cell_type": "code",
   "execution_count": null,
   "metadata": {},
   "outputs": [],
   "source": [
    "# cspell:disable\n",
    "from __future__ import annotations\n",
    "\n",
    "from os.path import dirname\n",
    "\n",
    "import IPython.display import display\n",
    "import polarization.lhcb\n",
    "import sympy as sp\n",
    "from polarization.amplitude import AmplitudeModel\n",
    "from polarization.io import perform_cached_doit\n",
    "from polarization.lhcb import load_model_builder, load_model_parameters\n",
    "from polarization.lhcb.particle import load_particles\n",
    "\n",
    "THIS_DIRECTORY = dirname(\"/mnt/c/dev/redeboer/benchmarks\")\n",
    "DATA_DIRECTORY = dirname(polarization.lhcb.__file__)"
   ]
  },
  {
   "cell_type": "code",
   "execution_count": null,
   "metadata": {},
   "outputs": [],
   "source": [
    "def create_amplitude_model() -> AmplitudeModel:\n",
    "    model_choice = 0\n",
    "    model_file = f\"{DATA_DIRECTORY}/model-definitions.yaml\"\n",
    "    particles = load_particles(f\"{DATA_DIRECTORY}/particle-definitions.yaml\")\n",
    "    amplitude_builder = load_model_builder(model_file, particles, model_choice)\n",
    "    imported_parameter_values = load_model_parameters(\n",
    "        model_file, amplitude_builder.decay, model_choice\n",
    "    )\n",
    "    reference_subsystem = 1\n",
    "    model = amplitude_builder.formulate(reference_subsystem)\n",
    "    model.parameter_defaults.update(imported_parameter_values)\n",
    "    return model\n",
    "\n",
    "\n",
    "model = create_amplitude_model()"
   ]
  },
  {
   "cell_type": "code",
   "execution_count": null,
   "metadata": {},
   "outputs": [],
   "source": [
    "print(\"Unfolding intensity expression\")\n",
    "unfolded_intensity_expr = perform_cached_doit(model.full_expression)\n",
    "print(f\"  → {sp.count_ops(unfolded_intensity_expr):,} operations\")\n",
    "print(\"Substituting kinematic variables\")\n",
    "angle_definitions = {k: v.doit() for k, v in model.variables.items()}\n",
    "full_intensity_expr = unfolded_intensity_expr.xreplace(angle_definitions)\n",
    "print(f\"  → {sp.count_ops(full_intensity_expr):,} operations\")"
   ]
  },
  {
   "cell_type": "code",
   "execution_count": null,
   "metadata": {},
   "outputs": [],
   "source": [
    "remaining_symbols = full_intensity_expr.xreplace(\n",
    "    model.parameter_defaults\n",
    ").free_symbols\n",
    "assert len(remaining_symbols) == 3"
   ]
  },
  {
   "cell_type": "code",
   "execution_count": null,
   "metadata": {},
   "outputs": [],
   "source": [
    "x = sp.Symbol(\"x\", positive=True)\n",
    "sp.sin(2 * sp.acos(x))"
   ]
  },
  {
   "cell_type": "code",
   "execution_count": null,
   "metadata": {},
   "outputs": [],
   "source": [
    "from ampform.sympy import PoolSum\n",
    "from symplot import partial_doit\n",
    "\n",
    "unfolded_wigner_d = partial_doit(model.intensity, PoolSum)\n",
    "full_intensity_expr = partial_doit(unfolded_wigner_d, PoolSum)\n",
    "# full_intensity_expr = unfolded_wigner_d.xreplace(model.amplitudes)"
   ]
  },
  {
   "cell_type": "code",
   "execution_count": null,
   "metadata": {},
   "outputs": [],
   "source": [
    "from sympy.physics.quantum.spin import WignerD\n",
    "\n",
    "simplified_expr = full_intensity_expr\n",
    "i = 0\n",
    "for node in sp.postorder_traversal(full_intensity_expr):\n",
    "    if isinstance(node, WignerD):\n",
    "        substituted_node = sp.expand_trig(node.doit().xreplace(model.variables))\n",
    "        display(substituted_node)\n",
    "        substitution = {node: substituted_node}\n",
    "        simplified_expr = simplified_expr.xreplace(substitution)"
   ]
  }
 ],
 "metadata": {
  "kernelspec": {
   "display_name": "Python 3.8.13 ('benchmarks')",
   "language": "python",
   "name": "python3"
  },
  "language_info": {
   "codemirror_mode": {
    "name": "ipython",
    "version": 3
   },
   "file_extension": ".py",
   "mimetype": "text/x-python",
   "name": "python",
   "nbconvert_exporter": "python",
   "pygments_lexer": "ipython3",
   "version": "3.8.13"
  },
  "vscode": {
   "interpreter": {
    "hash": "60f733fa4652bbc5f9d7e0d06d9c060d15741fcda96e261ebaca2e22e0f0ecb7"
   }
  }
 },
 "nbformat": 4,
 "nbformat_minor": 2
}
