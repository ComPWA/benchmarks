{
 "cells": [
  {
   "cell_type": "markdown",
   "metadata": {},
   "source": [
    "# Benchmark visualization"
   ]
  },
  {
   "cell_type": "code",
   "execution_count": null,
   "metadata": {
    "jupyter": {
     "source_hidden": true
    },
    "mystnb": {
     "code_prompt_show": "Import Python libraries"
    },
    "tags": [
     "hide-input"
    ]
   },
   "outputs": [],
   "source": [
    "from __future__ import annotations\n",
    "\n",
    "from collections import defaultdict\n",
    "\n",
    "import matplotlib.pyplot as plt\n",
    "import numpy as np\n",
    "import pandas as pd\n",
    "import yaml"
   ]
  },
  {
   "cell_type": "code",
   "execution_count": null,
   "metadata": {
    "mystnb": {
     "code_prompt_show": "Functions for importing computation time"
    },
    "tags": [
     "hide-input"
    ]
   },
   "outputs": [],
   "source": [
    "def import_computation_times(\n",
    "    filename: str,\n",
    ") -> tuple[np.ndarray, dict[str, np.ndarray]]:\n",
    "    with open(filename) as f:\n",
    "        imported_data = yaml.safe_load(f)\n",
    "    x_values = np.array(sorted(imported_data))\n",
    "    y_values = defaultdict(list)\n",
    "    for x in x_values:\n",
    "        dct = imported_data[x]\n",
    "        for k, v in dct.items():\n",
    "            y_values[k].append(v)\n",
    "    y_values = {k: np.array(v) for k, v in y_values.items()}\n",
    "    return x_values, y_values\n",
    "\n",
    "\n",
    "x_1cpu, Y_1CPU = import_computation_times(\"computation-times-1cpu.yaml\")\n",
    "x_8cpu, Y_8CPU = import_computation_times(\"computation-times-8cpu.yaml\")\n",
    "np.testing.assert_allclose(x_1cpu, x_8cpu)\n",
    "X = x_1cpu\n",
    "del x_1cpu, x_8cpu"
   ]
  },
  {
   "cell_type": "code",
   "execution_count": null,
   "metadata": {
    "tags": [
     "remove-input"
    ]
   },
   "outputs": [],
   "source": [
    "%config InlineBackend.figure_formats = ['svg']"
   ]
  },
  {
   "cell_type": "code",
   "execution_count": null,
   "metadata": {
    "jupyter": {
     "source_hidden": true
    },
    "tags": [
     "hide-input"
    ]
   },
   "outputs": [],
   "source": [
    "parametrized = \"parametrized\"\n",
    "substituted = \"substituted\"\n",
    "df = pd.DataFrame(\n",
    "    {\n",
    "        (\"sample size\", \"\"): X[::2],\n",
    "        (\"1 CPU\", \"parametrized\"): Y_1CPU[f\"{parametrized}, run 2\"].mean(axis=1)[::2],\n",
    "        (\"1 CPU\", \"substituted\"): Y_1CPU[f\"{substituted}, run 2\"].mean(axis=1)[::2],\n",
    "        (\"8 CPUs\", \"parametrized\"): Y_8CPU[f\"{parametrized}, run 2\"].mean(axis=1)[::2],\n",
    "        (\"8 CPUs\", \"substituted\"): Y_8CPU[f\"{substituted}, run 2\"].mean(axis=1)[::2],\n",
    "    },\n",
    ")\n",
    "df = df.set_index(\"sample size\")\n",
    "\n",
    "fig, ax = plt.subplots(figsize=(10, 7))\n",
    "ax.set_xlabel(\"Sample size\")\n",
    "ax.set_ylabel(\"Time (s)\")\n",
    "df.plot(ax=ax)\n",
    "df.style.format(formatter=\"{:.3g}\").format_index(formatter=\"{:,}\")"
   ]
  },
  {
   "cell_type": "code",
   "execution_count": null,
   "metadata": {
    "jupyter": {
     "source_hidden": true
    },
    "tags": [
     "hide-input",
     "scroll-input"
    ]
   },
   "outputs": [],
   "source": [
    "def create_overall_plot(\n",
    "    y_values: dict[str, np.ndarray],\n",
    "    title: str,\n",
    "    filename: str | None = None,\n",
    "    max_x: int | None = None,\n",
    "):\n",
    "    plt.rc(\"font\", size=12)\n",
    "    fig, axes = plt.subplots(figsize=(8, 4), ncols=2, tight_layout=True)\n",
    "    ax1, ax2 = axes\n",
    "    fig.suptitle(title)\n",
    "    ax1.set_title(\"First run\")\n",
    "    ax2.set_title(\"Second run (XLA cache)\")\n",
    "    ax1.set_ylabel(\"Computation time (s)\")\n",
    "    ax2.set_yscale(\"log\")\n",
    "    for ax in axes:\n",
    "        ax.set_xlabel(\"Number of events\")\n",
    "        ax.set_xscale(\"log\")\n",
    "        ax.grid(axis=\"y\")\n",
    "    style = dict(\n",
    "        fmt=\".\",\n",
    "    )\n",
    "\n",
    "    selector = np.full(X.shape, True)\n",
    "    if max_x is not None:\n",
    "        selector = max_x >= X\n",
    "    ax1.errorbar(\n",
    "        X[selector],\n",
    "        y_values[\"parametrized, run 1\"].mean(axis=1)[selector],\n",
    "        yerr=y_values[\"parametrized, run 1\"].std(axis=1)[selector],\n",
    "        label=\"parametrized\",\n",
    "        **style,\n",
    "    )\n",
    "    ax1.errorbar(\n",
    "        X[selector],\n",
    "        y_values[\"substituted, run 1\"].mean(axis=1)[selector],\n",
    "        yerr=y_values[\"substituted, run 1\"].std(axis=1)[selector],\n",
    "        label=\"substituted\",\n",
    "        **style,\n",
    "    )\n",
    "\n",
    "    ax2.errorbar(\n",
    "        X[selector],\n",
    "        y_values[\"parametrized, run 2\"].mean(axis=1)[selector],\n",
    "        yerr=y_values[\"parametrized, run 2\"].std(axis=1)[selector],\n",
    "        label=\"parametrized\",\n",
    "        **style,\n",
    "    )\n",
    "    ax2.errorbar(\n",
    "        X[selector],\n",
    "        y_values[\"substituted, run 2\"].mean(axis=1)[selector],\n",
    "        yerr=y_values[\"substituted, run 2\"].std(axis=1)[selector],\n",
    "        label=\"substituted\",\n",
    "        **style,\n",
    "    )\n",
    "    ax1.legend(loc=\"upper left\")\n",
    "    ax1.set_ylim(0, ax1.get_ylim()[1])\n",
    "    plt.savefig(filename, transparent=True)\n",
    "    plt.show()\n",
    "\n",
    "\n",
    "create_overall_plot(Y_1CPU, \"1 CPU\", filename=\"overall-1cpu.svg\")\n",
    "create_overall_plot(Y_8CPU, \"8 CPUs\", filename=\"overall-8cpu.svg\")\n",
    "create_overall_plot(Y_1CPU, \"1 CPU\", filename=\"overall-1cpu-max1e6.svg\", max_x=1e6)\n",
    "create_overall_plot(Y_8CPU, \"8 CPUs\", filename=\"overall-8cpu-max1e6.svg\", max_x=1e6)"
   ]
  },
  {
   "cell_type": "code",
   "execution_count": null,
   "metadata": {
    "jupyter": {
     "source_hidden": true
    },
    "tags": [
     "hide-input",
     "scroll-input"
    ]
   },
   "outputs": [],
   "source": [
    "def get_ratio(category: str, substract_base_time: bool) -> np.ndarray:\n",
    "    warmup_category = f\"{category[:-7]}, warm-up\"\n",
    "    y_1cpu = Y_1CPU[category]\n",
    "    y_1cpu_base = Y_1CPU[warmup_category]\n",
    "    y_8cpu = Y_8CPU[category]\n",
    "    y_8cpu_base = Y_8CPU[warmup_category]\n",
    "    if substract_base_time:\n",
    "        return (y_1cpu - y_1cpu_base.mean()) / (y_8cpu - y_8cpu_base.mean())\n",
    "    return y_1cpu / y_8cpu\n",
    "\n",
    "\n",
    "def create_multithreading_ratio_plot(substract_base_time: bool, savefig: bool = False):\n",
    "    plt.rc(\"font\", size=12)\n",
    "    fig, axes = plt.subplots(figsize=(8, 4), ncols=2, tight_layout=True)\n",
    "    ax1, ax2 = axes\n",
    "    if substract_base_time:\n",
    "        fig.suptitle(\"1 CPU vs 8 CPUs (substracting base time)\")\n",
    "    else:\n",
    "        fig.suptitle(\"1 CPU vs 8 CPUs\")\n",
    "    ax1.set_title(\"First run\")\n",
    "    ax2.set_title(\"Second run (XLA cache)\")\n",
    "    ax1.set_ylabel(\"1 CPU vs 8 CPUs\")\n",
    "    for ax in axes:\n",
    "        ax.set_xlabel(\"Number of events\")\n",
    "        ax.set_xscale(\"log\")\n",
    "        ax.set_ylim(0, 10)\n",
    "        ax.axhline(8, color=\"gray\", linestyle=\"--\")\n",
    "    style = dict(\n",
    "        fmt=\".\",\n",
    "    )\n",
    "\n",
    "    y_values = get_ratio(\"parametrized, run 1\", substract_base_time)\n",
    "    ax1.errorbar(\n",
    "        X,\n",
    "        y_values.mean(axis=1),\n",
    "        yerr=y_values.std(axis=1),\n",
    "        label=\"parametrized\",\n",
    "        **style,\n",
    "    )\n",
    "\n",
    "    y_values = get_ratio(\"substituted, run 1\", substract_base_time)\n",
    "    ax1.errorbar(\n",
    "        X,\n",
    "        y_values.mean(axis=1),\n",
    "        yerr=y_values.std(axis=1),\n",
    "        label=\"substituted\",\n",
    "        **style,\n",
    "    )\n",
    "\n",
    "    y_values = get_ratio(\"parametrized, run 2\", substract_base_time)\n",
    "    ax2.errorbar(\n",
    "        X,\n",
    "        y_values.mean(axis=1),\n",
    "        yerr=y_values.std(axis=1),\n",
    "        label=\"parametrized\",\n",
    "        **style,\n",
    "    )\n",
    "\n",
    "    y_values = get_ratio(\"substituted, run 2\", substract_base_time)\n",
    "    ax2.errorbar(\n",
    "        X,\n",
    "        y_values.mean(axis=1),\n",
    "        yerr=y_values.std(axis=1),\n",
    "        label=\"substituted\",\n",
    "        **style,\n",
    "    )\n",
    "\n",
    "    ax1.legend(loc=\"upper left\")\n",
    "    ax1.set_ylim(0, ax1.get_ylim()[1])\n",
    "    if savefig:\n",
    "        plt.savefig(\"computation-times-ratio.svg\", transparent=True)\n",
    "    plt.show()\n",
    "\n",
    "\n",
    "create_multithreading_ratio_plot(substract_base_time=False, savefig=True)\n",
    "create_multithreading_ratio_plot(substract_base_time=True)"
   ]
  },
  {
   "cell_type": "code",
   "execution_count": null,
   "metadata": {
    "jupyter": {
     "source_hidden": true
    },
    "tags": [
     "scroll-input",
     "hide-input"
    ]
   },
   "outputs": [],
   "source": [
    "def create_substitution_ratio_plot(savefig: bool = False):\n",
    "    plt.rc(\"font\", size=12)\n",
    "    _, axes = plt.subplots(figsize=(8, 4), ncols=2, tight_layout=True)\n",
    "    ax1, ax2 = axes\n",
    "    ax1.set_title(\"1 CPU\")\n",
    "    ax2.set_title(\"8 CPUs\")\n",
    "    ax1.set_ylabel(\"parametrized vs substituted (%)\")\n",
    "    for ax in axes:\n",
    "        ax.set_xlabel(\"Number of events\")\n",
    "        ax.set_xscale(\"log\")\n",
    "        ax.grid(axis=\"y\")\n",
    "    style = dict(\n",
    "        fmt=\".\",\n",
    "    )\n",
    "\n",
    "    y_values = 100 * Y_1CPU[\"substituted, run 1\"] / Y_1CPU[\"parametrized, run 1\"]\n",
    "    ax1.errorbar(\n",
    "        X,\n",
    "        y_values.mean(axis=1),\n",
    "        yerr=y_values.std(axis=1),\n",
    "        label=\"1 CPU\",\n",
    "        **style,\n",
    "    )\n",
    "\n",
    "    y_values = 100 * Y_8CPU[\"substituted, run 1\"] / Y_8CPU[\"parametrized, run 1\"]\n",
    "    ax1.errorbar(\n",
    "        X,\n",
    "        y_values.mean(axis=1),\n",
    "        yerr=y_values.std(axis=1),\n",
    "        label=\"8 CPUs\",\n",
    "        **style,\n",
    "    )\n",
    "\n",
    "    y_values = 100 * Y_1CPU[\"substituted, run 2\"] / Y_1CPU[\"parametrized, run 2\"]\n",
    "    ax2.errorbar(\n",
    "        X,\n",
    "        y_values.mean(axis=1),\n",
    "        yerr=y_values.std(axis=1),\n",
    "        label=\"1 CPU\",\n",
    "        **style,\n",
    "    )\n",
    "\n",
    "    y_values = 100 * Y_8CPU[\"substituted, run 2\"] / Y_8CPU[\"parametrized, run 2\"]\n",
    "    ax2.errorbar(\n",
    "        X,\n",
    "        y_values.mean(axis=1),\n",
    "        yerr=y_values.std(axis=1),\n",
    "        label=\"8 CPUs\",\n",
    "        **style,\n",
    "    )\n",
    "\n",
    "    ax1.legend(loc=\"upper left\")\n",
    "    ax1.set_ylim(0, ax1.get_ylim()[1])\n",
    "    if savefig:\n",
    "        plt.savefig(\"computation-times-substitution-ratio.svg\", transparent=True)\n",
    "    plt.show()\n",
    "\n",
    "\n",
    "create_substitution_ratio_plot(savefig=True)"
   ]
  },
  {
   "cell_type": "code",
   "execution_count": null,
   "metadata": {
    "jupyter": {
     "source_hidden": true
    },
    "tags": [
     "hide-input",
     "scroll-input"
    ]
   },
   "outputs": [],
   "source": [
    "def create_linear_check_plot():\n",
    "    plt.rc(\"font\", size=12)\n",
    "    _, axes = plt.subplots(\n",
    "        figsize=(8, 4),\n",
    "        ncols=2,\n",
    "        sharey=True,\n",
    "        tight_layout=True,\n",
    "    )\n",
    "    ax1, ax2 = axes\n",
    "    ax1.set_title(\"Parametrized\")\n",
    "    ax2.set_title(\"Substituted analytically\")\n",
    "    ax1.set_ylabel(\"Computation times - base time (s)\")\n",
    "    for ax in axes:\n",
    "        ax.set_xlabel(\"Number of events\")\n",
    "        ax.grid(axis=\"y\")\n",
    "    style = dict(\n",
    "        fmt=\"o--\",\n",
    "    )\n",
    "\n",
    "    category = \"parametrized, run 1\"\n",
    "    y_values = Y_1CPU[category]\n",
    "    ax1.errorbar(\n",
    "        X,\n",
    "        y_values.mean(axis=1),\n",
    "        yerr=y_values.std(axis=1),\n",
    "        label=\"1 CPU\",\n",
    "        **style,\n",
    "    )\n",
    "\n",
    "    y_values = Y_8CPU[category]\n",
    "    ax1.errorbar(\n",
    "        X,\n",
    "        y_values.mean(axis=1),\n",
    "        yerr=y_values.std(axis=1),\n",
    "        label=\"8 CPUs\",\n",
    "        **style,\n",
    "    )\n",
    "\n",
    "    category = \"substituted, run 1\"\n",
    "    y_values = Y_1CPU[category]\n",
    "    ax2.errorbar(\n",
    "        X,\n",
    "        y_values.mean(axis=1),\n",
    "        yerr=y_values.std(axis=1),\n",
    "        label=\"1 CPU\",\n",
    "        **style,\n",
    "    )\n",
    "\n",
    "    y_values = Y_8CPU[category]\n",
    "    ax2.errorbar(\n",
    "        X,\n",
    "        y_values.mean(axis=1),\n",
    "        yerr=y_values.std(axis=1),\n",
    "        label=\"8 CPUs\",\n",
    "        **style,\n",
    "    )\n",
    "\n",
    "    ax1.legend(loc=\"upper left\")\n",
    "    plt.savefig(\"computation-times-linear.svg\", transparent=True)\n",
    "    plt.show()\n",
    "\n",
    "\n",
    "create_linear_check_plot()"
   ]
  }
 ],
 "metadata": {
  "colab": {
   "toc_visible": true
  },
  "kernelspec": {
   "display_name": "Python 3 (ipykernel)",
   "language": "python",
   "name": "python3"
  },
  "language_info": {
   "codemirror_mode": {
    "name": "ipython",
    "version": 3
   },
   "file_extension": ".py",
   "mimetype": "text/x-python",
   "name": "python",
   "nbconvert_exporter": "python",
   "pygments_lexer": "ipython3",
   "version": "3.8.16"
  }
 },
 "nbformat": 4,
 "nbformat_minor": 4
}
